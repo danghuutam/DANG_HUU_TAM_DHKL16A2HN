{
 "cells": [
  {
   "cell_type": "markdown",
   "id": "8751b326",
   "metadata": {},
   "source": [
    "BƯỚC 1\n"
   ]
  },
  {
   "cell_type": "code",
   "execution_count": 1,
   "id": "8a7d62ee",
   "metadata": {},
   "outputs": [
    {
     "name": "stdout",
     "output_type": "stream",
     "text": [
      "Văn bản mã hóa (AES): b'\\xbeP\\xc6L\\xa2\\xcb7\\x1cX\\x8dJb\\xb7\\xb9\\\\0\\x90\\x88eR;T\\xc6~[j\\xe3O\\xa4GD\\xa8\\xccga\\xb0\\x9e>\\xcf\\x16\\x86\\xe9\\x8a\\xec\\xf4\\x9d\\xc5\\xff\\xdf#\\xf9t\\xbe\\txM\\xef\\x94\\xd4\\xf9\\xf8b4\\xa1'\n",
      "Thời gian mã hóa AES: 0.0025780200958251953 giây\n",
      "Văn bản giải mã (AES): Hello, this is a test message for AES encryption!\n",
      "Thời gian giải mã AES: 0.0 giây\n"
     ]
    }
   ],
   "source": [
    "from Crypto.Cipher import AES\n",
    "from Crypto.Random import get_random_bytes\n",
    "from Crypto.Util.Padding import pad, unpad\n",
    "import time\n",
    "\n",
    "# Tạo khóa mã hóa 128-bit và khởi tạo AES\n",
    "key = get_random_bytes(16)\n",
    "cipher = AES.new(key, AES.MODE_CBC)\n",
    "\n",
    "plaintext = b\"Hello, this is a test message for AES encryption!\"\n",
    "\n",
    "# Đo thời gian mã hóa AES\n",
    "start_time = time.time()\n",
    "ciphertext = cipher.encrypt(pad(plaintext, AES.block_size))\n",
    "end_time = time.time()\n",
    "aes_encryption_time = end_time - start_time\n",
    "\n",
    "print(\"Văn bản mã hóa (AES):\", ciphertext)\n",
    "print(\"Thời gian mã hóa AES:\", aes_encryption_time, \"giây\")\n",
    "\n",
    "# Giải mã và đo thời gian giải mã AES\n",
    "start_time = time.time()\n",
    "decipher = AES.new(key, AES.MODE_CBC, cipher.iv)\n",
    "decrypted_text = unpad(decipher.decrypt(ciphertext), AES.block_size)\n",
    "end_time = time.time()\n",
    "aes_decryption_time = end_time - start_time\n",
    "\n",
    "print(\"Văn bản giải mã (AES):\", decrypted_text.decode())\n",
    "print(\"Thời gian giải mã AES:\", aes_decryption_time, \"giây\")\n"
   ]
  },
  {
   "cell_type": "markdown",
   "id": "61e534c2",
   "metadata": {},
   "source": [
    "BƯỚC 2"
   ]
  },
  {
   "cell_type": "code",
   "execution_count": 2,
   "id": "6fe2fa7a",
   "metadata": {},
   "outputs": [
    {
     "name": "stdout",
     "output_type": "stream",
     "text": [
      "Khóa AES sau khi mã hóa bằng RSA: b\"'zN\\x80\\xd6a\\xa4\\x1a\\xce\\xa2rw^\\x07.A\\xfcw`M\\xdc\\x14\\x9f2\\xd2-w\\x1apo\\x9b\\x93\\xd0\\xe6Y\\xbb\\x98\\x08f\\x86\\xd8':Q\\xbe~\\xf0f|&\\x83\\xa4b\\xb54\\x1c\\xf4\\x10\\xed\\xc4\\xb8\\x1a\\xbe\\xaa\\x9b+\\x86'\\x03\\xdb\\xa8nz\\xc7\\xbb\\xf4C\\x97\\x11\\xb52L\\x9f\\xe1\\xc0\\xe9\\xbfC\\x08{\\xd0\\xcc\\x06a\\x99\\xb7H@\\xffS\\xd0\\x02\\xcd{\\x07\\x1a\\t\\x00\\xa7\\xdf\\x90\\xc6\\xec\\x84\\x8fbT%\\xf8O\\x99\\x86\\x076F99T\\xb5t\\n\\xb3\\xd2\\xb5!\\xa4(k\\x9f\\xb9\\xa0\\xbe\\x8c\\xf2mPY\\x057[:\\xa5\\x83\\t~oo\\xbe\\x9a\\xa7:\\xe0\\x85\\xdaym\\xae\\x17\\t\\xd39\\xaa\\xee><D\\x0e\\xfa\\xcbJS\\xa7\\x10\\xaf\\x9c\\x9b\\x1a\\xd6xZ\\x04\\x1f\\xba6~\\xa7\\xd9\\xe2\\xbaT\\xe4jII\\xaf\\x8d\\x18\\x0e\\xc2\\xe4\\xc5\\x15\\xd4\\xca\\xc6\\xf0\\xc4\\xcdl\\x0b\\xb1\\x15\\x06L\\x91-\\xcf$\\xc1\\xccXC\\xe8\\xcayQ\\x07\\xde\\xdb\\xdfU~\\xb3\\x9d}X\\n\\x82\\xa5\\x04z \\x0c\\x1eP\\x88\"\n",
      "Thời gian mã hóa RSA: 0.0013079643249511719 giây\n",
      "Khóa AES sau khi giải mã: b'\\x9a\\x1eG\\xf2\\xeas)\\xba\\x8b<PXa\\x85\\x90S'\n",
      "Thời gian giải mã RSA: 0.005958080291748047 giây\n"
     ]
    }
   ],
   "source": [
    "from Crypto.PublicKey import RSA\n",
    "from Crypto.Cipher import PKCS1_OAEP\n",
    "from Crypto.Random import get_random_bytes\n",
    "import time\n",
    "\n",
    "# Tạo cặp khóa RSA\n",
    "key = RSA.generate(2048)\n",
    "private_key = key.export_key()\n",
    "public_key = key.publickey().export_key()\n",
    "\n",
    "# Mã hóa khóa AES bằng khóa công khai RSA và đo thời gian\n",
    "aes_key = get_random_bytes(16)\n",
    "cipher_rsa = PKCS1_OAEP.new(RSA.import_key(public_key))\n",
    "\n",
    "start_time = time.time()\n",
    "encrypted_aes_key = cipher_rsa.encrypt(aes_key)\n",
    "end_time = time.time()\n",
    "rsa_encryption_time = end_time - start_time\n",
    "\n",
    "print(\"Khóa AES sau khi mã hóa bằng RSA:\", encrypted_aes_key)\n",
    "print(\"Thời gian mã hóa RSA:\", rsa_encryption_time, \"giây\")\n",
    "\n",
    "# Giải mã khóa AES bằng khóa bí mật RSA và đo thời gian\n",
    "decipher_rsa = PKCS1_OAEP.new(RSA.import_key(private_key))\n",
    "\n",
    "start_time = time.time()\n",
    "decrypted_aes_key = decipher_rsa.decrypt(encrypted_aes_key)\n",
    "end_time = time.time()\n",
    "rsa_decryption_time = end_time - start_time\n",
    "\n",
    "print(\"Khóa AES sau khi giải mã:\", decrypted_aes_key)\n",
    "print(\"Thời gian giải mã RSA:\", rsa_decryption_time, \"giây\")\n"
   ]
  },
  {
   "cell_type": "markdown",
   "id": "5522528c",
   "metadata": {},
   "source": [
    "BƯỚC 3"
   ]
  },
  {
   "cell_type": "code",
   "execution_count": 3,
   "id": "3baf12f6",
   "metadata": {},
   "outputs": [
    {
     "name": "stdout",
     "output_type": "stream",
     "text": [
      "Khóa AES sau khi giải mã: b'\\x9a\\x1eG\\xf2\\xeas)\\xba\\x8b<PXa\\x85\\x90S'\n",
      "Thời gian giải mã RSA: 0.005958080291748047 giây\n"
     ]
    }
   ],
   "source": [
    "from Crypto.PublicKey import RSA\n",
    "from Crypto.Cipher import PKCS1_OAEP\n",
    "\n",
    "# Tạo cặp khóa RSA\n",
    "key = RSA.generate(2048)\n",
    "private_key = key.export_key()\n",
    "public_key = key.publickey().export_key()\n",
    "\n",
    "# Mã hóa khóa AES bằng khóa công khai RSA và đo thời gian\n",
    "aes_key = get_random_bytes(16)\n",
    "cipher_rsa = PKCS1_OAEP.new(RSA.import_key(public_key))\n",
    "\n",
    "start_time = time.time()\n",
    "\n",
    "print(\"Khóa AES sau khi giải mã:\", decrypted_aes_key)\n",
    "print(\"Thời gian giải mã RSA:\", rsa_decryption_time, \"giây\")"
   ]
  }
 ],
 "metadata": {
  "kernelspec": {
   "display_name": "base",
   "language": "python",
   "name": "python3"
  },
  "language_info": {
   "codemirror_mode": {
    "name": "ipython",
    "version": 3
   },
   "file_extension": ".py",
   "mimetype": "text/x-python",
   "name": "python",
   "nbconvert_exporter": "python",
   "pygments_lexer": "ipython3",
   "version": "3.11.5"
  }
 },
 "nbformat": 4,
 "nbformat_minor": 5
}
